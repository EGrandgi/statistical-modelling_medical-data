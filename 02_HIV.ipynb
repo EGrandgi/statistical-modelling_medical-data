{
 "cells": [
  {
   "cell_type": "markdown",
   "metadata": {},
   "source": [
    "L'objectif de ce TP est d'analyser l'évolution du nombre de lymphocytes CD4 au cours du temps chez des patients infectés par le VIH, en s'intéressant aux effets du traitement IL-2 et aux éventuels effets d'autres covariables ou facteurs. On dispose des données de 70 patients. Les variables à l'inclusion sont :\n",
    "\n",
    "- `numpat` : numéro du patient dans l'essai ;\n",
    "\n",
    "- `groupe` : groupe de traitement (1=IL-2 ; 2=contrôle) ;\n",
    "\n",
    "- `stratcd4` : groupe de CD4 à l'inclusion (1=CD4<100 ; 2=CD4>100) ;\n",
    "\n",
    "- `age` : âge du patient au moment de l'inclusion ;\n",
    "\n",
    "- `sexe` : sexe du patient (1=Homme ; 2=Femme) ;\n",
    "\n",
    "- `trans` : groupe de transmission (1=homo-bisexuel ; 2=hétérosexuel ; 3=toxicomane ; 4=autre) ;\n",
    "\n",
    "- `agesero` : âge auquel la séropositivité du patient a été détectée ;\n",
    "\n",
    "- `dureevih` : durée depuis la détection de la séropositivité ;\n",
    "\n",
    "- `vihact` : présence de manifestations liées au VIH à l'inclusion (0=non ; 1=oui) ;\n",
    "\n",
    "- `poids` : poids du patient à l'inclusion.\n",
    "\n",
    "Les variables de suivi au cours de l'essai sont :\n",
    "\n",
    "- de `cd4S0` à `cd4S24`: nombre de lymphocytes CD4 à chaque visite de S0 à S24.\n",
    "\n",
    "On commencera par une analyse descriptive. On observera ensuite l'évolution des `cd4` en fonction du temps et selon le groupe de traitement, puis on cherchera à voir si la prise en compte d'autres covariables ou facteurs permet d'améliorer le modèle."
   ]
  },
  {
   "cell_type": "code",
   "execution_count": 1,
   "metadata": {},
   "outputs": [],
   "source": [
    "library('car')\n",
    "library('nlme')"
   ]
  },
  {
   "cell_type": "code",
   "execution_count": 2,
   "metadata": {},
   "outputs": [
    {
     "name": "stdout",
     "output_type": "stream",
     "text": [
      "70 15"
     ]
    }
   ],
   "source": [
    "options(warn=-1)\n",
    "data <- read.csv('CD4.csv', sep=',')\n",
    "cat(dim(data))"
   ]
  },
  {
   "cell_type": "code",
   "execution_count": 3,
   "metadata": {},
   "outputs": [],
   "source": [
    "rownames(data) <- data$numpat  # id = index\n",
    "attach(data)\n",
    "\n",
    "expl_vars <- c('groupe', 'stratcd4', 'age', 'sexe', 'trans', 'agesero', 'dureevih', 'vihact', 'poids')\n",
    "num_vars <- c('age', 'agesero', 'dureevih', 'poids')  # numériques\n",
    "fact_vars <- setdiff(expl_vars, num_vars)  # facteurs\n",
    "target <- c('cd4S0', 'cd4S6', 'cd4S12', 'cd4S18', 'cd4S24')\n",
    "\n",
    "# Convertir en facteurs\n",
    "for(var in fact_vars){\n",
    "    data[, var] <- as.factor(data[, var])\n",
    "}"
   ]
  },
  {
   "cell_type": "markdown",
   "metadata": {},
   "source": [
    "# Analyse descriptive simple"
   ]
  },
  {
   "cell_type": "markdown",
   "metadata": {},
   "source": [
    "## Résumé"
   ]
  },
  {
   "cell_type": "markdown",
   "metadata": {},
   "source": [
    "Le jeu de données comporte des valeurs manquantes. Pour l'analyse descriptive et la modélisation de l'évolution des `cd4` en fonction du temps et selon le groupe de traitement, les valeurs manquantes dans les `cd4` peuvent fausser les résultats. En supprimant les observations des individus correspondants, qui appartiennent tous au groupe 1, il nous reste 66 observations sur les 70 initiales.\n",
    "<br>Il n'est en revanche pas nécessaire de supprimer les observations comportant d'autres variables manquantes (`agesero` et `dureevih`). On les supprimera lorsqu'on voudra les utiliser, en seconde partie."
   ]
  },
  {
   "cell_type": "code",
   "execution_count": 4,
   "metadata": {},
   "outputs": [],
   "source": [
    "# Retirer les cd4 manquantes\n",
    "data <- data[complete.cases(data[, 2:6]),]\n",
    "cd4 <- data.frame(data[, 2:6])\n",
    "cd4 <- cd4[complete.cases(cd4),]\n",
    "attach(data)\n",
    "cd4 <- as.matrix(cd4)"
   ]
  },
  {
   "cell_type": "code",
   "execution_count": 5,
   "metadata": {},
   "outputs": [
    {
     "name": "stdout",
     "output_type": "stream",
     "text": [
      "66 observations"
     ]
    }
   ],
   "source": [
    "cat(paste(dim(data)[1], 'observations'))"
   ]
  },
  {
   "cell_type": "code",
   "execution_count": 6,
   "metadata": {},
   "outputs": [
    {
     "data": {
      "text/plain": [
       "     cd4S0           cd4S6           cd4S12          cd4S18     \n",
       " Min.   : 20.0   Min.   : 30.0   Min.   : 30.0   Min.   : 31.0  \n",
       " 1st Qu.:110.8   1st Qu.:123.0   1st Qu.:135.5   1st Qu.:131.2  \n",
       " Median :143.5   Median :153.0   Median :176.5   Median :187.0  \n",
       " Mean   :138.3   Mean   :166.1   Mean   :175.0   Mean   :188.6  \n",
       " 3rd Qu.:164.5   3rd Qu.:203.0   3rd Qu.:217.8   3rd Qu.:231.5  \n",
       " Max.   :216.0   Max.   :351.0   Max.   :360.0   Max.   :515.0  \n",
       "                                                                \n",
       "     cd4S24      groupe stratcd4      age        sexe   trans     agesero     \n",
       " Min.   : 30.0   1:30   1:11     Min.   :26.00   1:58   1:34   Min.   :15.00  \n",
       " 1st Qu.:142.2   2:36   2:55     1st Qu.:37.50   2: 8   2:17   1st Qu.:32.75  \n",
       " Median :195.5                   Median :44.50          3:10   Median :39.00  \n",
       " Mean   :188.1                   Mean   :45.91          4: 5   Mean   :40.39  \n",
       " 3rd Qu.:225.0                   3rd Qu.:52.00                 3rd Qu.:47.00  \n",
       " Max.   :394.0                   Max.   :72.00                 Max.   :71.00  \n",
       "                                                               NA's   :2      \n",
       "    dureevih      vihact     poids      \n",
       " Min.   : 0.000   0:45   Min.   :44.00  \n",
       " 1st Qu.: 2.000   1:21   1st Qu.:62.25  \n",
       " Median : 5.000          Median :69.00  \n",
       " Mean   : 5.266          Mean   :69.47  \n",
       " 3rd Qu.: 9.000          3rd Qu.:76.00  \n",
       " Max.   :13.000          Max.   :94.00  \n",
       " NA's   :2                              "
      ]
     },
     "metadata": {},
     "output_type": "display_data"
    }
   ],
   "source": [
    "summary(data[,-c(1)])"
   ]
  },
  {
   "cell_type": "markdown",
   "metadata": {},
   "source": [
    "On dispose désormais de 66 observations : 30 dans le groupe IL-2 et 36 dans le groupe contrôle. On a converti les variables catégorielles en facteurs (classe `factor`). \n",
    "<br>\n",
    "On peut voir notamment que 87.87% des individus sont des hommes. Plus de la moitié des individus sont homosexuels ou bisexuels (51.51%). 16.67% des individus présentaient un faible nombre de CD4 à l'inclusion (CD4<100). 31.82% présentaient des manifestations liées au VIH à l'inclusion."
   ]
  },
  {
   "cell_type": "code",
   "execution_count": 7,
   "metadata": {},
   "outputs": [
    {
     "data": {
      "image/png": "[encoded data removed]",
      "text/plain": [
       "Plot with title \"agesero\""
      ]
     },
     "metadata": {},
     "output_type": "display_data"
    },
    {
     "data": {
      "image/png": "[encoded data removed]",
      "text/plain": [
       "Plot with title \"poids\""
      ]
     },
     "metadata": {},
     "output_type": "display_data"
    }
   ],
   "source": [
    "# Distribution des variables numériques \n",
    "options(repr.plot.width=10, repr.plot.height=4)\n",
    "par(mfrow=c(1, 4))\n",
    "\n",
    "for(var in num_vars){\n",
    "    boxplot(data[, var], main=toString(var))\n",
    "    hist(data[, var], main=toString(var), xlab=var)\n",
    "}"
   ]
  },
  {
   "cell_type": "markdown",
   "metadata": {},
   "source": [
    "<br>Concernant les variables explicatives numériques, on peut noter que `age`, `agesero`, `dureevih` et `poids` ont une médiane proche de leur moyenne.\n",
    "<br>Les variables `age` et `agesero` sont assez dispersées : la première s'étend de 26 à 72 ans, la seconde de 15 à 71. Même constat pour `poids`, de 44 à 94 kg. Quant à la durée depuis la détection de la séropositivité (`dureevih`), elle s'étend de 0 à 13 ans."
   ]
  },
  {
   "cell_type": "markdown",
   "metadata": {},
   "source": [
    "## Observation des `cd4` par instant et par groupe"
   ]
  },
  {
   "cell_type": "code",
   "execution_count": 8,
   "metadata": {},
   "outputs": [
    {
     "data": {
      "image/png": "[encoded data removed]",
      "text/plain": [
       "Plot with title \"Evolution de l'écart-type des CD4 en fonction du temps et par groupe\""
      ]
     },
     "metadata": {},
     "output_type": "display_data"
    }
   ],
   "source": [
    "# Code non affiché"
   ]
  },
  {
   "cell_type": "markdown",
   "metadata": {},
   "source": [
    "En moyenne, à chaque instant le groupe sous traitement IL-2 a un nombre de lymphocytes CD4 plus élevé que le groupe contrôle. Cet écart tend à s'accroître au cours du temps. Le groupe IL-2 gagne en moyenne 83 lymphocytes CD4 entre l'instant 0 et l'instant 24, tandis que le groupe contrôle n'en gagne que 21.\n",
    "L'écart-type augmente globalement entre les instants 0 et 24 pour les 2 groupes, sans qu'on puisse noter une grande différence entre les 2 groupes. "
   ]
  },
  {
   "cell_type": "code",
   "execution_count": 9,
   "metadata": {},
   "outputs": [
    {
     "data": {
      "image/png": "[encoded data removed]",
      "text/plain": [
       "Plot with title \"Evolution de la mesure CD4 au cours du temps - groupe contrôle\""
      ]
     },
     "metadata": {},
     "output_type": "display_data"
    }
   ],
   "source": [
    "# Code non affiché"
   ]
  },
  {
   "cell_type": "markdown",
   "metadata": {},
   "source": [
    "On complète l'analyse descriptive en observant la distribution de la variable réponse à chaque instant pour chacun des 2 groupes. On remarque que la dispersion augmente au cours du temps pour les 2 groupes, mais avec une augmentation plus nette chez le groupe IL-2, et une dispersion plus grande que le groupe contrôle en fin de traitement.\n",
    "Cela suggère que le traitement a des effets de plus en plus différents sur les personnes au cours du temps."
   ]
  },
  {
   "cell_type": "code",
   "execution_count": 10,
   "metadata": {},
   "outputs": [
    {
     "name": "stdout",
     "output_type": "stream",
     "text": [
      "cd4S0\n",
      "\tShapiro-Wilk normality test\n",
      "\n",
      "data:  get(t)\n",
      "W = 0.98188, p-value = 0.4472\n",
      "\n",
      "cd4S6\n",
      "\tShapiro-Wilk normality test\n",
      "\n",
      "data:  get(t)\n",
      "W = 0.96507, p-value = 0.05992\n",
      "\n",
      "cd4S12\n",
      "\tShapiro-Wilk normality test\n",
      "\n",
      "data:  get(t)\n",
      "W = 0.98097, p-value = 0.4055\n",
      "\n",
      "cd4S18\n",
      "\tShapiro-Wilk normality test\n",
      "\n",
      "data:  get(t)\n",
      "W = 0.95212, p-value = 0.01257\n",
      "\n",
      "cd4S24\n",
      "\tShapiro-Wilk normality test\n",
      "\n",
      "data:  get(t)\n",
      "W = 0.98522, p-value = 0.6212\n",
      "\n"
     ]
    }
   ],
   "source": [
    "# Test de normalité sur les variables réponses\n",
    "for(t in target){\n",
    "    cat(t)\n",
    "    print(shapiro.test(get(t)))\n",
    "}"
   ]
  },
  {
   "cell_type": "markdown",
   "metadata": {},
   "source": [
    "Les tests de Shapiro-Wilk renvoient des p-values non significatives (supérieures à 0,05) pour toutes les variables `cd4`, sauf `cd4S18`. Les distributions de 4 variables réponses sur 5 sont donc supposées gaussiennes. Il faudra bien veiller à vérifier a posteriori la normalité des résidus."
   ]
  },
  {
   "cell_type": "markdown",
   "metadata": {},
   "source": [
    "<br>\n",
    "\n",
    "**Modélisation :**\n",
    "<br>\n",
    "\n",
    "<br>Dans un premier temps, on observera l'évolution des `cd4` en fonction du temps et selon le groupe de traitement, d'abord avec des ANOVAs à un facteur, puis en mettant en oeure un modèle à un facteur pour données répétées pour prendre en compte la dépendance entre les différentes observations au cours du temps.\n",
    "<br>\n",
    "Dans un second temps, on cherchera à voir si la prise en compte d'autres covariables ou facteurs permet d'améliorer le modèle."
   ]
  },
  {
   "cell_type": "markdown",
   "metadata": {},
   "source": [
    "# Evolution des CD4 en fonction du temps et selon le groupe"
   ]
  },
  {
   "cell_type": "markdown",
   "metadata": {},
   "source": [
    "## Analyse unidimensionnelle"
   ]
  },
  {
   "cell_type": "code",
   "execution_count": 11,
   "metadata": {},
   "outputs": [
    {
     "name": "stdout",
     "output_type": "stream",
     "text": [
      "             Response cd4S0 Response cd4S6 Response cd4S12 Response cd4S18\n",
      "R2                    0.046          0.087         2.4e-01         2.6e-01\n",
      "Coef_var              0.284          0.389         3.5e-01         3.9e-01\n",
      "p.val.groupe          0.084          0.016         2.7e-05         1.3e-05\n",
      "             Response cd4S24\n",
      "R2                   3.0e-01\n",
      "Coef_var             3.2e-01\n",
      "p.val.groupe         2.0e-06\n"
     ]
    }
   ],
   "source": [
    "# ANOVAs par instants \n",
    "mod.cd4 <- lm(cd4 ~ groupe)\n",
    "H <- summary(aov(mod.cd4))  # tests d'absence d'effet du facteur par instant\n",
    "LM <- summary(mod.cd4)  # estimations des paramètres de l'ANOVA à un facteur par instant\n",
    "\n",
    "# R2, coefficient de variation et p-value de l'effet groupe\n",
    "R2 <- sapply(LM, function(x)x$r.squared)\n",
    "Coef_var <- sapply(H, function(x)sqrt(x$Mean[nrow(x)])) / apply(cd4, 2, mean)\n",
    "p.val.groupe <- sapply(H, function(x)x$Pr[1])\n",
    "print(rbind(R2, Coef_var, p.val.groupe), digits=2)"
   ]
  },
  {
   "cell_type": "markdown",
   "metadata": {},
   "source": [
    "L'analyse unidimensionnelle sur les 5 variables réponses, qui correspond à une ANOVA à un facteur pour chaque instant, est résumée dans le tableau ci-dessus.\n",
    "<br>On remarque que l'effet du facteur `groupe` n'est pas significatif à l'instant 0 (p-valeur supérieure à 5%), ce qui est normal puisqu'à ce stade le traitement n'a pas encore commencé. L'effet devient significatif dès l'instant 6, qui correspond à la première des visites effectuées après le début du traitement."
   ]
  },
  {
   "cell_type": "markdown",
   "metadata": {},
   "source": [
    "## Analyse multidimensionnelle\n",
    "On met en oeure un modèle à un facteur pour données répétées pour prendre en compte la dépendance entre les différentes observations au cours du temps.\n",
    "<br>\n",
    "On cherche à savoir si le nombre de `cd4` varie selon le groupe (traitement IL-2 ou contrôle) et/ou au cours du temps.\n",
    "<br>\n",
    "On commencera par observer les effets inter-sujets (effet du facteur `groupe`), qui ne dépendent pas du temps. On vérifiera ensuite la validité de l'hypothèse de sphéricité pour choisir la structure de covariance appropriée, avant d'analyser les effets intra-sujets, c'est-à-dire l'interaction entre le groupe et le temps."
   ]
  },
  {
   "cell_type": "code",
   "execution_count": 12,
   "metadata": {},
   "outputs": [],
   "source": [
    "# On utilise le modèle précédemment estimé en ajoutant le temps.\n",
    "fact.temps <- data.frame(TEMPS=as.factor(1:5))\n",
    "mod.cd4.tps <- Anova(mod.cd4, idata=fact.temps, idesign=~TEMPS, type='III', test='Wilks')"
   ]
  },
  {
   "cell_type": "markdown",
   "metadata": {},
   "source": [
    "**Effets inter-sujets**"
   ]
  },
  {
   "cell_type": "code",
   "execution_count": 13,
   "metadata": {},
   "outputs": [
    {
     "data": {
      "text/plain": [
       "              Sum Sq num Df Error SS den Df  F value    Pr(>F)    \n",
       "(Intercept)  6176073      1   839359     64 470.9174 < 2.2e-16 ***\n",
       "groupe        276472      1   839359     64  21.0806 2.114e-05 ***\n",
       "TEMPS         157622      4   359109    256  28.0912 < 2.2e-16 ***\n",
       "groupe:TEMPS   55457      4   359109    256   9.8834 1.885e-07 ***\n",
       "---\n",
       "Signif. codes:  0 '***' 0.001 '**' 0.01 '*' 0.05 '.' 0.1 ' ' 1"
      ]
     },
     "metadata": {},
     "output_type": "display_data"
    }
   ],
   "source": [
    "res_aov <- summary(mod.cd4.tps)\n",
    "res_aov$univariate.tests"
   ]
  },
  {
   "cell_type": "markdown",
   "metadata": {},
   "source": [
    "Les effets inter-sujets ne dépendent pas du temps. On teste ci-dessus l'effet du facteur `groupe` avec le test de Fisher : on détecte un effet très significatif du groupe, avec une p-valeur de 2.114e-05."
   ]
  },
  {
   "cell_type": "markdown",
   "metadata": {},
   "source": [
    "**Test de sphéricité**"
   ]
  },
  {
   "cell_type": "code",
   "execution_count": 14,
   "metadata": {},
   "outputs": [
    {
     "data": {
      "text/plain": [
       "             Test statistic  p-value\n",
       "TEMPS               0.73062 0.020657\n",
       "groupe:TEMPS        0.73062 0.020657"
      ]
     },
     "metadata": {},
     "output_type": "display_data"
    }
   ],
   "source": [
    "res_aov <- summary(mod.cd4.tps)\n",
    "res_aov$sphericity.tests"
   ]
  },
  {
   "cell_type": "markdown",
   "metadata": {},
   "source": [
    "Le test de Mauchly donne une p-value égale à 0.020657 < 5%. On rejette donc l'hypothèse de sphéricité, et donc la possibilité d'utiliser une structure de covariance de symmétrie composée. On devra donc utiliser une autre structure de covariance."
   ]
  },
  {
   "cell_type": "markdown",
   "metadata": {},
   "source": [
    "**Effets intra-sujets**"
   ]
  },
  {
   "cell_type": "code",
   "execution_count": 15,
   "metadata": {},
   "outputs": [
    {
     "data": {
      "text/html": [
       "<table>\n",
       "<thead><tr><th></th><th scope=col>GG eps</th><th scope=col>Pr(&gt;F[GG])</th><th scope=col>HF eps</th><th scope=col>Pr(&gt;F[HF])</th></tr></thead>\n",
       "<tbody>\n",
       "\t<tr><th scope=row>TEMPS</th><td>0.8525855   </td><td>7.522852e-17</td><td>0.9063933   </td><td>9.169986e-18</td></tr>\n",
       "\t<tr><th scope=row>groupe:TEMPS</th><td>0.8525855   </td><td>1.190510e-06</td><td>0.9063933   </td><td>6.069267e-07</td></tr>\n",
       "</tbody>\n",
       "</table>\n"
      ],
      "text/latex": [
       "\\begin{tabular}{r|llll}\n",
       "  & GG eps & Pr(>F{[}GG{]}) & HF eps & Pr(>F{[}HF{]})\\\\\n",
       "\\hline\n",
       "\tTEMPS & 0.8525855    & 7.522852e-17 & 0.9063933    & 9.169986e-18\\\\\n",
       "\tgroupe:TEMPS & 0.8525855    & 1.190510e-06 & 0.9063933    & 6.069267e-07\\\\\n",
       "\\end{tabular}\n"
      ],
      "text/markdown": [
       "\n",
       "| <!--/--> | GG eps | Pr(>F[GG]) | HF eps | Pr(>F[HF]) |\n",
       "|---|---|---|---|---|\n",
       "| TEMPS | 0.8525855    | 7.522852e-17 | 0.9063933    | 9.169986e-18 |\n",
       "| groupe:TEMPS | 0.8525855    | 1.190510e-06 | 0.9063933    | 6.069267e-07 |\n",
       "\n"
      ],
      "text/plain": [
       "             GG eps    Pr(>F[GG])   HF eps    Pr(>F[HF])  \n",
       "TEMPS        0.8525855 7.522852e-17 0.9063933 9.169986e-18\n",
       "groupe:TEMPS 0.8525855 1.190510e-06 0.9063933 6.069267e-07"
      ]
     },
     "metadata": {},
     "output_type": "display_data"
    }
   ],
   "source": [
    "res_aov$pval.adjustments"
   ]
  },
  {
   "cell_type": "markdown",
   "metadata": {},
   "source": [
    "Pour juger des effets intra-sujets, on observe les résultats des tests de Fisher corrigés Greenhouse-Geisser et Huynh-Feldt. L'interaction entre le groupe et le temps est confirmée, et l'effet du temps est très significatif.\n",
    "\n",
    "\n",
    "Nous allons maintenant chercher une structure de covariance adaptée au modèle, avec les librairies `nlme` et `gls`. Au préalable, nous devons mettre le tableau de données au format adéquat."
   ]
  },
  {
   "cell_type": "code",
   "execution_count": 16,
   "metadata": {},
   "outputs": [],
   "source": [
    "# Transformation du tableau de données\n",
    "numpat <- factor(rep(rownames(data), 5))\n",
    "groupe_ <- factor(rep(groupe, 5))\n",
    "temps <- rep(0, dim(data)[1])\n",
    "for(i in c(6, 12, 18, 24)){temps <- c(temps, rep(i, dim(data)[1]))}\n",
    "temps <- factor(temps)\n",
    "cd4_ <- as.numeric(unlist(data[, 2:6]))\n",
    "data2 <- data.frame(numpat, temps, groupe_, cd4_)"
   ]
  },
  {
   "cell_type": "code",
   "execution_count": 17,
   "metadata": {
    "code_folding": []
   },
   "outputs": [],
   "source": [
    "# On estime le modèle avec les différentes structures de covariance\n",
    "# Structure de covariance non structurée\n",
    "Mod.Un <- gls(cd4_ ~ groupe_ * temps, method='REML', correlation=corSymm(form=~1|numpat), weights=varIdent(form=~1|temps))\n",
    "# Structure de covariance AR1\n",
    "Mod.AR <- gls(cd4_ ~ groupe_ * temps, method='REML', correlation=corAR1(form=~1|numpat))\n",
    "# Structure de covariance Toeplitz à 2 bandes\n",
    "Mod.TOEP2 <- gls(cd4_ ~ groupe_ * temps, method='REML', correlation=corARMA(form=~1|numpat, p=0, q=1))\n",
    "# Structure de covariance Toeplitz générale\n",
    "Mod.TOEPg <- gls(cd4_ ~ groupe_ * temps, method='REML', correlation=corARMA(form=~1|numpat, p=3, q=1))"
   ]
  },
  {
   "cell_type": "code",
   "execution_count": 18,
   "metadata": {},
   "outputs": [
    {
     "data": {
      "text/html": [
       "<table>\n",
       "<tbody>\n",
       "\t<tr><td>3399.247</td></tr>\n",
       "\t<tr><td>3468.804</td></tr>\n",
       "\t<tr><td>3515.652</td></tr>\n",
       "\t<tr><td>3434.180</td></tr>\n",
       "</tbody>\n",
       "</table>\n"
      ],
      "text/latex": [
       "\\begin{tabular}{l}\n",
       "\t 3399.247\\\\\n",
       "\t 3468.804\\\\\n",
       "\t 3515.652\\\\\n",
       "\t 3434.180\\\\\n",
       "\\end{tabular}\n"
      ],
      "text/markdown": [
       "\n",
       "| 3399.247 |\n",
       "| 3468.804 |\n",
       "| 3515.652 |\n",
       "| 3434.180 |\n",
       "\n"
      ],
      "text/plain": [
       "     [,1]    \n",
       "[1,] 3399.247\n",
       "[2,] 3468.804\n",
       "[3,] 3515.652\n",
       "[4,] 3434.180"
      ]
     },
     "metadata": {},
     "output_type": "display_data"
    }
   ],
   "source": [
    "# AIC et BIC selon les structures de covariance\n",
    "rbind(AIC(Mod.Un), AIC(Mod.AR), AIC(Mod.TOEP2), AIC(Mod.TOEPg))"
   ]
  },
  {
   "cell_type": "code",
   "execution_count": 19,
   "metadata": {},
   "outputs": [
    {
     "data": {
      "text/html": [
       "<table>\n",
       "<tbody>\n",
       "\t<tr><td>3493.455</td></tr>\n",
       "\t<tr><td>3514.024</td></tr>\n",
       "\t<tr><td>3560.872</td></tr>\n",
       "\t<tr><td>3490.705</td></tr>\n",
       "</tbody>\n",
       "</table>\n"
      ],
      "text/latex": [
       "\\begin{tabular}{l}\n",
       "\t 3493.455\\\\\n",
       "\t 3514.024\\\\\n",
       "\t 3560.872\\\\\n",
       "\t 3490.705\\\\\n",
       "\\end{tabular}\n"
      ],
      "text/markdown": [
       "\n",
       "| 3493.455 |\n",
       "| 3514.024 |\n",
       "| 3560.872 |\n",
       "| 3490.705 |\n",
       "\n"
      ],
      "text/plain": [
       "     [,1]    \n",
       "[1,] 3493.455\n",
       "[2,] 3514.024\n",
       "[3,] 3560.872\n",
       "[4,] 3490.705"
      ]
     },
     "metadata": {},
     "output_type": "display_data"
    }
   ],
   "source": [
    "rbind(BIC(Mod.Un), BIC(Mod.AR), BIC(Mod.TOEP2), BIC(Mod.TOEPg))"
   ]
  },
  {
   "cell_type": "markdown",
   "metadata": {},
   "source": [
    "On choisit une structure minimisant AIC et BIC. La structure `Un` (absence de structure) minimise AIC, tandis que la structure `TOEPg` (structure de Toeplitz générale) minimise BIC. La structure `Un` comporte davantage de paramètres à estimer, mais étant donné que son AIC est de loin le plus faible, et son BIC très proche de celui de `TOPEg`, on retient cette structure."
   ]
  },
  {
   "cell_type": "code",
   "execution_count": 20,
   "metadata": {},
   "outputs": [
    {
     "data": {
      "text/plain": [
       "                     Value Std.Error   t-value p-value\n",
       "(Intercept)      147.63333  7.179956 20.561870  0.0000\n",
       "groupe_2         -17.05000  9.721707 -1.753807  0.0804\n",
       "temps6            39.93333  9.397987  4.249137  0.0000\n",
       "temps12           64.96667  8.184135  7.938122  0.0000\n",
       "temps18           88.20000 10.633704  8.294382  0.0000\n",
       "temps24           83.30000  8.502720  9.796865  0.0000\n",
       "groupe_2:temps6  -22.32222 12.724935 -1.754211  0.0804\n",
       "groupe_2:temps12 -51.96667 11.081372 -4.689552  0.0000\n",
       "groupe_2:temps18 -69.61667 14.398103 -4.835128  0.0000\n",
       "groupe_2:temps24 -61.49444 11.512737 -5.341427  0.0000\n",
       "\n"
      ]
     },
     "metadata": {},
     "output_type": "display_data"
    }
   ],
   "source": [
    "final_model <- summary(Mod.Un)\n",
    "final_model$coefficients"
   ]
  },
  {
   "cell_type": "markdown",
   "metadata": {},
   "source": [
    "Les patients du groupe sous traitement IL-2 ont plus de lymphocytes CD4 que ceux du groupe contrôle, et cette différence s'accroît significativement au cours du temps de la semaine 12 à la semaine 18 : 51.97 et 69.62 CD4 de plus respectivement pour les semaines 12 et 18. A la semaine 24, la différence est plus basse : 61.49."
   ]
  },
  {
   "cell_type": "markdown",
   "metadata": {},
   "source": [
    "# Prise en compte du facteur `stratcd4`\n",
    "La variable `stratcd4` donne le groupe de CD4 à l'inclusion : 1 si CD4 < 100, 2 sinon. On cherche à voir si ce facteur a des effets significatifs dans le modèle. On commence par une ANOVA pour chaque instant, avec les facteurs `groupe` et `stratcd4`."
   ]
  },
  {
   "cell_type": "code",
   "execution_count": 21,
   "metadata": {},
   "outputs": [
    {
     "name": "stdout",
     "output_type": "stream",
     "text": [
      "                  Response cd4S0 Response cd4S6 Response cd4S12 Response cd4S18\n",
      "R2                       4.6e-01        3.5e-01         5.0e-01         4.2e-01\n",
      "Coef_var                 2.2e-01        3.3e-01         2.9e-01         3.5e-01\n",
      "p.val.groupe             2.5e-02        5.4e-03         8.2e-07         1.9e-06\n",
      "p.val.stratcd4           3.3e-09        4.4e-06         4.9e-07         1.0e-04\n",
      "p.val.interaction        6.6e-01        6.5e-01         5.1e-01         6.6e-01\n",
      "                  Response cd4S24\n",
      "R2                        5.3e-01\n",
      "Coef_var                  2.7e-01\n",
      "p.val.groupe              3.7e-08\n",
      "p.val.stratcd4            6.9e-07\n",
      "p.val.interaction         7.9e-01\n"
     ]
    }
   ],
   "source": [
    "mod.cd4 <- lm(cd4 ~ groupe * stratcd4)\n",
    "H <- summary(aov(mod.cd4))\n",
    "LM <- summary(mod.cd4)\n",
    "R2 <- sapply(LM, function(x)x$r.squared)\n",
    "             \n",
    "Coef_var <- sapply(H, function(x)sqrt(x$Mean[nrow(x)])) / apply(cd4, 2, mean)\n",
    "p.val.groupe <- sapply(H, function(x)x$Pr[1])\n",
    "p.val.stratcd4 <- sapply(H, function(x)x$Pr[2])\n",
    "p.val.interaction <- sapply(H, function(x)x$Pr[3])\n",
    "print(rbind(R2, Coef_var, p.val.groupe, p.val.stratcd4, p.val.interaction), digits=2)"
   ]
  },
  {
   "cell_type": "markdown",
   "metadata": {},
   "source": [
    "On remarque que l'effet du facteur `stratcd4` est très significatif à l'instant 0 (p-valeur inférieure à 5%), ce qui est normal puisque la mesure de `stratcd4` est faite à cet instant. L'effet reste significatif à tous les instants suivants.\n",
    "<br>L'effet de l'interaction entre `groupe` et `stratcd4` n'est pas significatif."
   ]
  },
  {
   "cell_type": "code",
   "execution_count": 22,
   "metadata": {},
   "outputs": [
    {
     "data": {
      "text/plain": [
       "                      Sum Sq num Df Error SS den Df F value    Pr(>F)    \n",
       "(Intercept)           223016      1   487100     62 28.3863 1.468e-06 ***\n",
       "groupe                 22967      1   487100     62  2.9233 0.0923106 .  \n",
       "stratcd4              109296      1   487100     62 13.9116 0.0004176 ***\n",
       "groupe:stratcd4           24      1   487100     62  0.0031 0.9558337    \n",
       "TEMPS                   7068      4   351817    248  1.2455 0.2922086    \n",
       "groupe:TEMPS            4246      4   351817    248  0.7483 0.5599600    \n",
       "stratcd4:TEMPS          4571      4   351817    248  0.8056 0.5225908    \n",
       "groupe:stratcd4:TEMPS   2986      4   351817    248  0.5262 0.7165791    \n",
       "---\n",
       "Signif. codes:  0 '***' 0.001 '**' 0.01 '*' 0.05 '.' 0.1 ' ' 1"
      ]
     },
     "metadata": {},
     "output_type": "display_data"
    }
   ],
   "source": [
    "fact.temps <- data.frame(TEMPS=as.factor(1:5))\n",
    "mod.cd4.tps <- Anova(mod.cd4, idata=fact.temps, idesign=~TEMPS, type='III', test='Wilks')\n",
    "res_aov <- summary(mod.cd4.tps)\n",
    "res_aov$univariate.tests"
   ]
  },
  {
   "cell_type": "markdown",
   "metadata": {},
   "source": [
    "Le test de Fisher nous confirme que l'effet du facteur `stratcd4` seul est significatif. L'interaction avec le temps n'est pas significative. On pourra donc ajouter le facteur `stratcd4` au modèle. Pour l'instant, notre modèle peut s'écrire : **`groupe * temps + strat`**. On peut réprésenter les effets temps, groupe et strat sur un même graphe :"
   ]
  },
  {
   "cell_type": "code",
   "execution_count": 23,
   "metadata": {},
   "outputs": [
    {
     "data": {
      "image/png": "[encoded data removed]",
      "text/plain": [
       "Plot with title \"Groupe 2 : contrôle\""
      ]
     },
     "metadata": {},
     "output_type": "display_data"
    }
   ],
   "source": [
    "# Code non affiché :\n",
    "# Moyennes des CD4 par visite et par stratcd4 pour le groupe 1 (IL-2)\n",
    "# Moyennes des CD4 par visite et par stratcd4 pour le groupe 2 (contrôle)"
   ]
  },
  {
   "cell_type": "markdown",
   "metadata": {},
   "source": [
    "Dans le groupe IL-2, le traitement permet une augmentation du nombre de lymphocytes CD4 de 55% (+86) entre le début et la fin du traitement pour les patients qui étaient au-dessus de 100 dès l'inclusion (`stratcd4`=2). Cette augmentation est de 68% (+62) pour les patients qui étaient en-dessous de 100 à l'inclusion (`stratcd4`=1).\n",
    "<br>\n",
    "Dans le groupe contrôle, l'augmentation est de 18% (+27) lymphocytes CD4 en moyenne pour les patients de `stratcd4`=2. Elle est de 4% (+3) pour les patients de `stratcd4`=1. Cela nous permet de confirmer que le groupe sous traitement et le groupe contrôle connaissent des évolutions significativement différentes de leur nombre de CD4 au cours du temps.\n",
    "<br>L'effet du facteur `stratcd4` vient s'ajouter : on remarque que le nombre de CD4 des patients qui ne suivent pas le traitement tend à augmenter davantage (en %) quand la valeur de départ est supérieure à 100, mais chez les patients qui suivent le traitement, ceux qui commencent avec une valeur inférieure à 100 connaissent une plus forte évolution."
   ]
  },
  {
   "cell_type": "markdown",
   "metadata": {},
   "source": [
    "# Prise en compte de la variable `agesero`\n",
    "La variable `agesero` donne l'âge auquel la séropositivité du patient a été détectée. On cherche à voir si elle a des effets significatifs dans le modèle. On commence par retirer les valeurs manquantes de `agesero` (code non affiché)."
   ]
  },
  {
   "cell_type": "markdown",
   "metadata": {},
   "source": [
    "On transforme ensuite `agesero` en facteur : on la recode en 5 facteurs à parts égales."
   ]
  },
  {
   "cell_type": "code",
   "execution_count": 24,
   "metadata": {},
   "outputs": [],
   "source": [
    "# Recode selon 5 quantiles\n",
    "agesero[agesero < 30] <- '29_ans_moins'\n",
    "agesero[agesero >= 30 & agesero < 38] <- '30_37'\n",
    "agesero[agesero >= 38 & agesero < 43] <- '38_42'\n",
    "agesero[agesero >= 43 & agesero < 49] <- '43_48'\n",
    "agesero[agesero >= 49] <- '49_ans_plus'"
   ]
  },
  {
   "cell_type": "markdown",
   "metadata": {},
   "source": [
    "On réalise une ANOVA pour chaque instant, avec le facteurs `groupe`."
   ]
  },
  {
   "cell_type": "code",
   "execution_count": 25,
   "metadata": {},
   "outputs": [
    {
     "data": {
      "text/plain": [
       "                      Sum Sq num Df Error SS den Df  F value    Pr(>F)    \n",
       "(Intercept)          1353965      1   567578     54 128.8176 6.408e-16 ***\n",
       "groupe                 40039      1   567578     54   3.8094   0.05616 .  \n",
       "agesero               128086      4   567578     54   3.0465   0.02455 *  \n",
       "groupe:agesero         78481      4   567578     54   1.8667   0.12965    \n",
       "TEMPS                  44418      4   296965    216   8.0769 4.362e-06 ***\n",
       "groupe:TEMPS           12381      4   296965    216   2.2514   0.06461 .  \n",
       "agesero:TEMPS          42523     16   296965    216   1.9331   0.01893 *  \n",
       "groupe:agesero:TEMPS   24942     16   296965    216   1.1339   0.32524    \n",
       "---\n",
       "Signif. codes:  0 '***' 0.001 '**' 0.01 '*' 0.05 '.' 0.1 ' ' 1"
      ]
     },
     "metadata": {},
     "output_type": "display_data"
    }
   ],
   "source": [
    "# Code non affiché"
   ]
  },
  {
   "cell_type": "markdown",
   "metadata": {},
   "source": [
    "On remarque ici que le facteur `agesero` a un effet significatif (p-valeur = 0.02455 < 5%). L'interaction avec le temps est également significative (p-valeur = 0.01893 < 5%). En revanche, l'interaction d'ordre maximal n'est pas significative. On pourra ajouter `agesero` à notre modèle final, sans interaction."
   ]
  },
  {
   "cell_type": "markdown",
   "metadata": {},
   "source": [
    "# Modèle final\n",
    "De la même manière, on teste la prise en compte des autres covariables et facteurs. On peut retenir que `poids`, `sexe`, `dureevih`, `trans`, `age` et `vihact` n'apportent pas d'effets significatifs au modèle. Ce constat est toutefois moins net pour deux dernières variables citées ; notamment, l'interaction entre `vihact` et le temps dans un modèle contenant `groupe`, `vihact` et temps donne une p-value proche de 7%.\n",
    "<br>Finalement, on retient le modèle : **`groupe * temps + strat + agesero`**. On commencera par commenter les effets inter-sujets. On vérifiera ensuite la validité de l'hypothèse de sphéricité pour choisir la structure de covariance appropriée, avant d'analyser les effets intra-sujets."
   ]
  },
  {
   "cell_type": "code",
   "execution_count": 26,
   "metadata": {},
   "outputs": [],
   "source": [
    "# Code non affiché : on estime le modèle avec les différentes structures de covariance"
   ]
  },
  {
   "cell_type": "code",
   "execution_count": 27,
   "metadata": {},
   "outputs": [
    {
     "data": {
      "text/html": [
       "<table>\n",
       "<tbody>\n",
       "\t<tr><td>3227.374</td></tr>\n",
       "\t<tr><td>3278.993</td></tr>\n",
       "\t<tr><td>3294.185</td></tr>\n",
       "\t<tr><td>3259.775</td></tr>\n",
       "</tbody>\n",
       "</table>\n"
      ],
      "text/latex": [
       "\\begin{tabular}{l}\n",
       "\t 3227.374\\\\\n",
       "\t 3278.993\\\\\n",
       "\t 3294.185\\\\\n",
       "\t 3259.775\\\\\n",
       "\\end{tabular}\n"
      ],
      "text/markdown": [
       "\n",
       "| 3227.374 |\n",
       "| 3278.993 |\n",
       "| 3294.185 |\n",
       "| 3259.775 |\n",
       "\n"
      ],
      "text/plain": [
       "     [,1]    \n",
       "[1,] 3227.374\n",
       "[2,] 3278.993\n",
       "[3,] 3294.185\n",
       "[4,] 3259.775"
      ]
     },
     "metadata": {},
     "output_type": "display_data"
    }
   ],
   "source": [
    "# AIC et BIC selon les structures de covariance\n",
    "rbind(AIC(Mod.Un), AIC(Mod.AR), AIC(Mod.TOEP2), AIC(Mod.TOEPg))"
   ]
  },
  {
   "cell_type": "code",
   "execution_count": 28,
   "metadata": {},
   "outputs": [
    {
     "data": {
      "text/html": [
       "<table>\n",
       "<tbody>\n",
       "\t<tr><td>3338.983</td></tr>\n",
       "\t<tr><td>3342.239</td></tr>\n",
       "\t<tr><td>3357.431</td></tr>\n",
       "\t<tr><td>3334.182</td></tr>\n",
       "</tbody>\n",
       "</table>\n"
      ],
      "text/latex": [
       "\\begin{tabular}{l}\n",
       "\t 3338.983\\\\\n",
       "\t 3342.239\\\\\n",
       "\t 3357.431\\\\\n",
       "\t 3334.182\\\\\n",
       "\\end{tabular}\n"
      ],
      "text/markdown": [
       "\n",
       "| 3338.983 |\n",
       "| 3342.239 |\n",
       "| 3357.431 |\n",
       "| 3334.182 |\n",
       "\n"
      ],
      "text/plain": [
       "     [,1]    \n",
       "[1,] 3338.983\n",
       "[2,] 3342.239\n",
       "[3,] 3357.431\n",
       "[4,] 3334.182"
      ]
     },
     "metadata": {},
     "output_type": "display_data"
    }
   ],
   "source": [
    "rbind(BIC(Mod.Un), BIC(Mod.AR), BIC(Mod.TOEP2), BIC(Mod.TOEPg))"
   ]
  },
  {
   "cell_type": "markdown",
   "metadata": {},
   "source": [
    "On choisit la structure minimisant AIC et BIC : la structure `Un` (absence de structure). On observe ensuite les estimations des paramètres du modèle, afin d'évaluer les effets des modalités des facteurs et les interactions de `groupe` et temps."
   ]
  },
  {
   "cell_type": "code",
   "execution_count": 29,
   "metadata": {},
   "outputs": [
    {
     "data": {
      "text/plain": [
       "                        Value Std.Error   t-value p-value\n",
       "(Intercept)          93.42258 14.082807  6.633804  0.0000\n",
       "groupe_2             -5.11547  7.607461 -0.672427  0.5018\n",
       "temps6               39.93333  9.454396  4.223785  0.0000\n",
       "temps12              64.96667  8.106276  8.014366  0.0000\n",
       "temps18              88.20000 10.692698  8.248619  0.0000\n",
       "temps24              83.30000  8.589648  9.697720  0.0000\n",
       "strat_2              68.50429  9.809432  6.983512  0.0000\n",
       "agesero_30_37        -5.69290 11.803669 -0.482299  0.6299\n",
       "agesero_38_42         2.26276 11.296798  0.200301  0.8414\n",
       "agesero_43_48       -10.65441 11.741384 -0.907424  0.3649\n",
       "agesero_49_ans_plus -31.92385 11.658854 -2.738164  0.0065\n",
       "groupe_2:temps6     -24.63922 12.971324 -1.899514  0.0584\n",
       "groupe_2:temps12    -55.02549 11.121719 -4.947570  0.0000\n",
       "groupe_2:temps18    -72.14118 14.670261 -4.917511  0.0000\n",
       "groupe_2:temps24    -61.56471 11.784900 -5.224033  0.0000\n",
       "\n",
       "\tShapiro-Wilk normality test\n",
       "\n",
       "data:  Mod.Un$residuals\n",
       "W = 0.94461, p-value = 1.37e-09\n"
      ]
     },
     "metadata": {},
     "output_type": "display_data"
    }
   ],
   "source": [
    "final_model <- summary(Mod.Un)\n",
    "print(final_model$coefficients)\n",
    "shapiro.test(Mod.Un$residuals)"
   ]
  },
  {
   "cell_type": "markdown",
   "metadata": {},
   "source": [
    "Les patients du groupe sous traitement IL-2 ont plus de lymphocytes CD4 que ceux du groupe contrôle, et cette différence s'accroît au cours du temps de la semaine 6 à la semaine 18 : 24.64, 55.03 et 71.14 CD4 de plus respectivement pour les semaines 6, 12 et 18. A la semaine 24, la différence est plus basse : 61.56.\n",
    "<br>\n",
    "Concernant l'âge de détection de la séropositivité, les patients dont l'`agesero` est supérieur à 49 ans présentent une différence significative avec les autres groupes d'`agesero` : ils ont moins de CD4 (en moyenne 31.92 de moins que le groupe `agesero` moins de 30 ans).\n",
    "<br>\n",
    "Enfin, en observant la strate de CD4 à l'inclusion, on remarque que les patients du groupe `stratcd4`=2 (>100) ont en moyenne 68.5 lymphocytes CD4 de plus que ceux du groupe 1 (<100). Si on a vu précédemment que le traitement provoquait une augmentation plus forte (en %) chez les patients du groupe `stratcd4`=1, leur nombre de CD4 reste tout de même largement inférieur au nombre de CD4 du groupe `stratcd4`=2.\n",
    "<br>Toutefois, le test de Shapiro-Wilk renvoie une p-valeur significative (<5%), la distribution des résidus n'est donc pas gaussienne et ne permet pas de valider le modèle."
   ]
  }
 ],
 "metadata": {
  "kernelspec": {
   "display_name": "R",
   "language": "R",
   "name": "ir"
  },
  "language_info": {
   "codemirror_mode": "r",
   "file_extension": ".r",
   "mimetype": "text/x-r-source",
   "name": "R",
   "pygments_lexer": "r",
   "version": "3.6.1"
  },
  "toc": {
   "base_numbering": 1,
   "nav_menu": {},
   "number_sections": true,
   "sideBar": true,
   "skip_h1_title": false,
   "title_cell": "Table of Contents",
   "title_sidebar": "Contents",
   "toc_cell": false,
   "toc_position": {
    "height": "calc(100% - 180px)",
    "left": "10px",
    "top": "150px",
    "width": "294.667px"
   },
   "toc_section_display": true,
   "toc_window_display": true
  }
 },
 "nbformat": 4,
 "nbformat_minor": 2
}
