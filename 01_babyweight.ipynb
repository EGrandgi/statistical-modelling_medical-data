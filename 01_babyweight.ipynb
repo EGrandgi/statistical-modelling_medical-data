{
 "cells": [
  {
   "cell_type": "markdown",
   "metadata": {},
   "source": [
    "<h1><center>Emma Grandgirard - M2 SID<span class=\"tocSkip\"></span>\n",
    "<h4><center>MSA - Travail à rendre n°1<span class=\"tocSkip\"></span>"
   ]
  },
  {
   "cell_type": "markdown",
   "metadata": {},
   "source": [
    "L'objectif de ce TP est d'identifier les facteurs de risque maternels associés à un faible poids du bébé à la naissance. On cherchera à déterminer les variables ou facteurs pouvant influencer ce poids, donné par la variable `pdsb`. On dispose de :\n",
    "\n",
    "- `age` : âge de la mère ;\n",
    "\n",
    "- `pdsm` : poids de la mère ;\n",
    "\n",
    "- `race`: race de la mère ;\n",
    "\n",
    "- `tabac`: tabagisme de la mère au cours de la grossesse ;\n",
    "\n",
    "- `aap`: antécédent d'accouchement prématuré chez la mère ;\n",
    "\n",
    "-  `ht` : présence d'hypertension chez la mère ;\n",
    "\n",
    "- `iu` : présence d'irritabilité utérine chez la mère ;\n",
    "\n",
    "- `nbv` : nombre de visites médicales de la mère au cours du premier trimestre.\n",
    "\n",
    "On commencera par une analyse descriptive, avant de mettre en oeuvre différents modèles : ANOVA, régression linéaire multiple, puis ANCOVA."
   ]
  },
  {
   "cell_type": "code",
   "execution_count": 1,
   "metadata": {},
   "outputs": [],
   "source": [
    "library('Hmisc')\n",
    "library('HH')"
   ]
  },
  {
   "cell_type": "code",
   "execution_count": 2,
   "metadata": {},
   "outputs": [
    {
     "name": "stdout",
     "output_type": "stream",
     "text": [
      "189 observations, 10 variables :\n",
      "id age pdsm race tabac aap ht iu nbv pdsb"
     ]
    }
   ],
   "source": [
    "options(warn=-1)\n",
    "babyweight <- read.csv('babyweight.csv', sep='')\n",
    "cat(paste(dim(babyweight)[1], 'observations,', dim(babyweight)[2], 'variables :\\n'))\n",
    "cat(names(babyweight))"
   ]
  },
  {
   "cell_type": "code",
   "execution_count": 3,
   "metadata": {},
   "outputs": [],
   "source": [
    "# Processing\n",
    "rownames(babyweight) <- babyweight$id  # id = index\n",
    "babyweight <- babyweight[-c(1)]\n",
    "babyweight$aap[babyweight$aap >= 2] = 2  # recode\n",
    "babyweight$nbv[babyweight$nbv >= 3] = 3  # recode\n",
    "attach(babyweight)\n",
    "\n",
    "expl_vars <- c('age', 'pdsm', 'race', 'tabac', 'ht', 'iu', 'aap', 'nbv')  # explanatory variables\n",
    "num_vars <- c('age', 'pdsm')  # numeric\n",
    "fact_vars <- setdiff(expl_vars, num_vars)  # categorical\n",
    "\n",
    "# Convert to factors\n",
    "for(var in fact_vars){\n",
    "    babyweight[, var] <- as.factor(babyweight[, var])\n",
    "}"
   ]
  },
  {
   "cell_type": "markdown",
   "metadata": {},
   "source": [
    "Note : étant donné que le niveau 3 du facteur `aap` ne contient qu'une seule observation, et que les autres niveaux sont 0, 1 et 2, on remplace le niveau 2 par un niveau 2 ou plus. De même, on regroupe les niveaux 3 et plus de `nbv` en un seul niveau."
   ]
  },
  {
   "cell_type": "markdown",
   "metadata": {},
   "source": [
    "# Analyse descriptive simple"
   ]
  },
  {
   "cell_type": "markdown",
   "metadata": {},
   "source": [
    "## Résumé"
   ]
  },
  {
   "cell_type": "code",
   "execution_count": 4,
   "metadata": {},
   "outputs": [
    {
     "data": {
      "text/plain": [
       "      age             pdsm        race   tabac   aap     ht      iu     \n",
       " Min.   :14.00   Min.   : 40.00   1:96   0:115   0:159   0:177   0:161  \n",
       " 1st Qu.:19.00   1st Qu.: 55.00   2:26   1: 74   1: 24   1: 12   1: 28  \n",
       " Median :23.00   Median : 60.50   3:67           2:  6                  \n",
       " Mean   :23.24   Mean   : 64.91                                         \n",
       " 3rd Qu.:26.00   3rd Qu.: 70.00                                         \n",
       " Max.   :45.00   Max.   :125.00                                         \n",
       " nbv          pdsb     \n",
       " 0:100   Min.   : 709  \n",
       " 1: 47   1st Qu.:2414  \n",
       " 2: 30   Median :2977  \n",
       " 3: 12   Mean   :2945  \n",
       "         3rd Qu.:3475  \n",
       "         Max.   :4990  "
      ]
     },
     "metadata": {},
     "output_type": "display_data"
    }
   ],
   "source": [
    "summary(babyweight)"
   ]
  },
  {
   "cell_type": "markdown",
   "metadata": {},
   "source": [
    "On dispose de 189 observations. On a converti les variables catégorielles en facteurs (classe `factor`). \n",
    "<br>\n",
    "Concernant les variables explicatives, on peut voir notamment que 39.15% des mères ont consommé du tabac pendant leur grossesse (`tabac`). De plus, on note la présence d'hypertension (`ht`) chez 6.35% des mères, la présence d'irritabilité utérine (`iu`) chez 14.81% des mères, et des antécédents d'accouchement prématuré (`aat`) chez 15.87% des mères."
   ]
  },
  {
   "cell_type": "code",
   "execution_count": 5,
   "metadata": {},
   "outputs": [
    {
     "data": {
      "image/png": "[encoded data removed]",
      "text/plain": [
       "Plot with title \"pdsm\""
      ]
     },
     "metadata": {},
     "output_type": "display_data"
    }
   ],
   "source": [
    "# Numeric variables distribution\n",
    "options(repr.plot.width=10, repr.plot.height=4)\n",
    "par(mfrow=c(1, 4))\n",
    "\n",
    "for(var in num_vars){\n",
    "    boxplot(babyweight[, var], main=toString(var))\n",
    "    hist(babyweight[, var], main=toString(var), xlab=var)\n",
    "}"
   ]
  },
  {
   "cell_type": "markdown",
   "metadata": {},
   "source": [
    "<br>Concernant les variables explicatives numériques, on peut noter que `age` et `pdsm` ont une médiane proche de leur moyenne.\n",
    "<br>Les deux variables sont assez dispersées : `age` s'étend de 14 à 45 ans, et `pdsm` de 40 à 125 kg. "
   ]
  },
  {
   "cell_type": "markdown",
   "metadata": {},
   "source": [
    "## Variable réponse"
   ]
  },
  {
   "cell_type": "markdown",
   "metadata": {},
   "source": [
    "La variable réponse est le poids du bébé `pdsb`. Le poids minimum est très bas : 709g, tandis que le poids maximum est de 4990g. Les bébés ont un poids moyen de 2945g."
   ]
  },
  {
   "cell_type": "code",
   "execution_count": 6,
   "metadata": {},
   "outputs": [
    {
     "data": {
      "text/plain": [
       "\n",
       "\tShapiro-Wilk normality test\n",
       "\n",
       "data:  pdsb\n",
       "W = 0.99247, p-value = 0.4383\n"
      ]
     },
     "metadata": {},
     "output_type": "display_data"
    },
    {
     "data": {
      "image/png": "[encoded data removed]",
      "text/plain": [
       "Plot with title \"pdsb\""
      ]
     },
     "metadata": {},
     "output_type": "display_data"
    }
   ],
   "source": [
    "options(repr.plot.width=5, repr.plot.height=4)\n",
    "par(mfrow=c(1, 2))\n",
    "boxplot(babyweight[, 'pdsb'], main=toString('pdsb'))\n",
    "hist(babyweight[, 'pdsb'], main=toString('pdsb'), xlab='pdsb')\n",
    "shapiro.test(pdsb)"
   ]
  },
  {
   "cell_type": "markdown",
   "metadata": {},
   "source": [
    "Le test de Shapiro-Wilk renvoie une p-value non significative (supérieure à 0,05). La distribution de la variable réponse est donc supposée gaussienne. Dans ce cas précis, la gaussianité de la variable réponse n'est pas obligatoire ; elle le serait si l'on souhaitait mettre en oeuvre un modèle linéaire sur un échantillon plus petit (30 observations ou moins)."
   ]
  },
  {
   "cell_type": "markdown",
   "metadata": {},
   "source": [
    "## Plan d'expérience"
   ]
  },
  {
   "cell_type": "code",
   "execution_count": 7,
   "metadata": {
    "code_folding": []
   },
   "outputs": [
    {
     "data": {
      "text/plain": [
       ", , iu = 0, race = 1, tabac = 0, nbv = 0\n",
       "\n",
       "   ht\n",
       "aap  0  1\n",
       "  0 13  0\n",
       "  1  0  0\n",
       "  2  0  0\n",
       "\n",
       ", , iu = 1, race = 1, tabac = 0, nbv = 0\n",
       "\n",
       "   ht\n",
       "aap  0  1\n",
       "  0  0  0\n",
       "  1  0  0\n",
       "  2  0  0\n",
       "\n",
       ", , iu = 0, race = 2, tabac = 0, nbv = 0\n",
       "\n",
       "   ht\n",
       "aap  0  1\n",
       "  0  4  2\n",
       "  1  0  0\n",
       "  2  0  0\n",
       "\n",
       ", , iu = 1, race = 2, tabac = 0, nbv = 0\n",
       "\n",
       "   ht\n",
       "aap  0  1\n",
       "  0  2  0\n",
       "  1  0  0\n",
       "  2  0  0\n",
       "\n",
       ", , iu = 0, race = 3, tabac = 0, nbv = 0\n",
       "\n",
       "   ht\n",
       "aap  0  1\n",
       "  0 26  2\n",
       "  1  1  1\n",
       "  2  0  0\n",
       "\n",
       ", , iu = 1, race = 3, tabac = 0, nbv = 0\n",
       "\n",
       "   ht\n",
       "aap  0  1\n",
       "  0  4  0\n",
       "  1  0  0\n",
       "  2  0  0\n",
       "\n",
       ", , iu = 0, race = 1, tabac = 1, nbv = 0\n",
       "\n",
       "   ht\n",
       "aap  0  1\n",
       "  0 16  2\n",
       "  1  4  0\n",
       "  2  1  0\n",
       "\n",
       ", , iu = 1, race = 1, tabac = 1, nbv = 0\n",
       "\n",
       "   ht\n",
       "aap  0  1\n",
       "  0  4  0\n",
       "  1  1  0\n",
       "  2  2  0\n",
       "\n",
       ", , iu = 0, race = 2, tabac = 1, nbv = 0\n",
       "\n",
       "   ht\n",
       "aap  0  1\n",
       "  0  4  1\n",
       "  1  1  0\n",
       "  2  0  0\n",
       "\n",
       ", , iu = 1, race = 2, tabac = 1, nbv = 0\n",
       "\n",
       "   ht\n",
       "aap  0  1\n",
       "  0  0  0\n",
       "  1  0  0\n",
       "  2  0  0\n",
       "\n",
       ", , iu = 0, race = 3, tabac = 1, nbv = 0\n",
       "\n",
       "   ht\n",
       "aap  0  1\n",
       "  0  3  0\n",
       "  1  1  0\n",
       "  2  1  0\n",
       "\n",
       ", , iu = 1, race = 3, tabac = 1, nbv = 0\n",
       "\n",
       "   ht\n",
       "aap  0  1\n",
       "  0  2  0\n",
       "  1  2  0\n",
       "  2  0  0\n",
       "\n",
       ", , iu = 0, race = 1, tabac = 0, nbv = 1\n",
       "\n",
       "   ht\n",
       "aap  0  1\n",
       "  0 16  1\n",
       "  1  1  0\n",
       "  2  0  0\n",
       "\n",
       ", , iu = 1, race = 1, tabac = 0, nbv = 1\n",
       "\n",
       "   ht\n",
       "aap  0  1\n",
       "  0  1  0\n",
       "  1  0  0\n",
       "  2  1  0\n",
       "\n",
       ", , iu = 0, race = 2, tabac = 0, nbv = 1\n",
       "\n",
       "   ht\n",
       "aap  0  1\n",
       "  0  3  0\n",
       "  1  1  0\n",
       "  2  0  0\n",
       "\n",
       ", , iu = 1, race = 2, tabac = 0, nbv = 1\n",
       "\n",
       "   ht\n",
       "aap  0  1\n",
       "  0  0  0\n",
       "  1  0  0\n",
       "  2  0  0\n",
       "\n",
       ", , iu = 0, race = 3, tabac = 0, nbv = 1\n",
       "\n",
       "   ht\n",
       "aap  0  1\n",
       "  0  6  0\n",
       "  1  1  1\n",
       "  2  1  0\n",
       "\n",
       ", , iu = 1, race = 3, tabac = 0, nbv = 1\n",
       "\n",
       "   ht\n",
       "aap  0  1\n",
       "  0  1  0\n",
       "  1  1  0\n",
       "  2  0  0\n",
       "\n",
       ", , iu = 0, race = 1, tabac = 1, nbv = 1\n",
       "\n",
       "   ht\n",
       "aap  0  1\n",
       "  0  5  1\n",
       "  1  2  0\n",
       "  2  0  0\n",
       "\n",
       ", , iu = 1, race = 1, tabac = 1, nbv = 1\n",
       "\n",
       "   ht\n",
       "aap  0  1\n",
       "  0  0  0\n",
       "  1  1  0\n",
       "  2  0  0\n",
       "\n",
       ", , iu = 0, race = 2, tabac = 1, nbv = 1\n",
       "\n",
       "   ht\n",
       "aap  0  1\n",
       "  0  1  0\n",
       "  1  1  0\n",
       "  2  0  0\n",
       "\n",
       ", , iu = 1, race = 2, tabac = 1, nbv = 1\n",
       "\n",
       "   ht\n",
       "aap  0  1\n",
       "  0  0  0\n",
       "  1  0  0\n",
       "  2  0  0\n",
       "\n",
       ", , iu = 0, race = 3, tabac = 1, nbv = 1\n",
       "\n",
       "   ht\n",
       "aap  0  1\n",
       "  0  1  0\n",
       "  1  0  0\n",
       "  2  0  0\n",
       "\n",
       ", , iu = 1, race = 3, tabac = 1, nbv = 1\n",
       "\n",
       "   ht\n",
       "aap  0  1\n",
       "  0  0  0\n",
       "  1  0  0\n",
       "  2  0  0\n",
       "\n",
       ", , iu = 0, race = 1, tabac = 0, nbv = 2\n",
       "\n",
       "   ht\n",
       "aap  0  1\n",
       "  0  8  0\n",
       "  1  0  0\n",
       "  2  0  0\n",
       "\n",
       ", , iu = 1, race = 1, tabac = 0, nbv = 2\n",
       "\n",
       "   ht\n",
       "aap  0  1\n",
       "  0  1  0\n",
       "  1  0  0\n",
       "  2  0  0\n",
       "\n",
       ", , iu = 0, race = 2, tabac = 0, nbv = 2\n",
       "\n",
       "   ht\n",
       "aap  0  1\n",
       "  0  1  0\n",
       "  1  1  0\n",
       "  2  0  0\n",
       "\n",
       ", , iu = 1, race = 2, tabac = 0, nbv = 2\n",
       "\n",
       "   ht\n",
       "aap  0  1\n",
       "  0  1  0\n",
       "  1  0  0\n",
       "  2  0  0\n",
       "\n",
       ", , iu = 0, race = 3, tabac = 0, nbv = 2\n",
       "\n",
       "   ht\n",
       "aap  0  1\n",
       "  0  5  0\n",
       "  1  0  0\n",
       "  2  0  0\n",
       "\n",
       ", , iu = 1, race = 3, tabac = 0, nbv = 2\n",
       "\n",
       "   ht\n",
       "aap  0  1\n",
       "  0  1  0\n",
       "  1  1  0\n",
       "  2  0  0\n",
       "\n",
       ", , iu = 0, race = 1, tabac = 1, nbv = 2\n",
       "\n",
       "   ht\n",
       "aap  0  1\n",
       "  0  8  0\n",
       "  1  0  0\n",
       "  2  0  0\n",
       "\n",
       ", , iu = 1, race = 1, tabac = 1, nbv = 2\n",
       "\n",
       "   ht\n",
       "aap  0  1\n",
       "  0  1  0\n",
       "  1  0  0\n",
       "  2  0  0\n",
       "\n",
       ", , iu = 0, race = 2, tabac = 1, nbv = 2\n",
       "\n",
       "   ht\n",
       "aap  0  1\n",
       "  0  1  0\n",
       "  1  0  0\n",
       "  2  0  0\n",
       "\n",
       ", , iu = 1, race = 2, tabac = 1, nbv = 2\n",
       "\n",
       "   ht\n",
       "aap  0  1\n",
       "  0  0  0\n",
       "  1  0  0\n",
       "  2  0  0\n",
       "\n",
       ", , iu = 0, race = 3, tabac = 1, nbv = 2\n",
       "\n",
       "   ht\n",
       "aap  0  1\n",
       "  0  1  0\n",
       "  1  0  0\n",
       "  2  0  0\n",
       "\n",
       ", , iu = 1, race = 3, tabac = 1, nbv = 2\n",
       "\n",
       "   ht\n",
       "aap  0  1\n",
       "  0  0  0\n",
       "  1  0  0\n",
       "  2  0  0\n",
       "\n",
       ", , iu = 0, race = 1, tabac = 0, nbv = 3\n",
       "\n",
       "   ht\n",
       "aap  0  1\n",
       "  0  1  0\n",
       "  1  0  0\n",
       "  2  0  0\n",
       "\n",
       ", , iu = 1, race = 1, tabac = 0, nbv = 3\n",
       "\n",
       "   ht\n",
       "aap  0  1\n",
       "  0  1  0\n",
       "  1  0  0\n",
       "  2  0  0\n",
       "\n",
       ", , iu = 0, race = 2, tabac = 0, nbv = 3\n",
       "\n",
       "   ht\n",
       "aap  0  1\n",
       "  0  1  0\n",
       "  1  0  0\n",
       "  2  0  0\n",
       "\n",
       ", , iu = 1, race = 2, tabac = 0, nbv = 3\n",
       "\n",
       "   ht\n",
       "aap  0  1\n",
       "  0  0  0\n",
       "  1  0  0\n",
       "  2  0  0\n",
       "\n",
       ", , iu = 0, race = 3, tabac = 0, nbv = 3\n",
       "\n",
       "   ht\n",
       "aap  0  1\n",
       "  0  2  0\n",
       "  1  1  0\n",
       "  2  0  0\n",
       "\n",
       ", , iu = 1, race = 3, tabac = 0, nbv = 3\n",
       "\n",
       "   ht\n",
       "aap  0  1\n",
       "  0  0  0\n",
       "  1  0  0\n",
       "  2  0  0\n",
       "\n",
       ", , iu = 0, race = 1, tabac = 1, nbv = 3\n",
       "\n",
       "   ht\n",
       "aap  0  1\n",
       "  0  2  1\n",
       "  1  1  0\n",
       "  2  0  0\n",
       "\n",
       ", , iu = 1, race = 1, tabac = 1, nbv = 3\n",
       "\n",
       "   ht\n",
       "aap  0  1\n",
       "  0  0  0\n",
       "  1  0  0\n",
       "  2  0  0\n",
       "\n",
       ", , iu = 0, race = 2, tabac = 1, nbv = 3\n",
       "\n",
       "   ht\n",
       "aap  0  1\n",
       "  0  1  0\n",
       "  1  0  0\n",
       "  2  0  0\n",
       "\n",
       ", , iu = 1, race = 2, tabac = 1, nbv = 3\n",
       "\n",
       "   ht\n",
       "aap  0  1\n",
       "  0  0  0\n",
       "  1  0  0\n",
       "  2  0  0\n",
       "\n",
       ", , iu = 0, race = 3, tabac = 1, nbv = 3\n",
       "\n",
       "   ht\n",
       "aap  0  1\n",
       "  0  1  0\n",
       "  1  0  0\n",
       "  2  0  0\n",
       "\n",
       ", , iu = 1, race = 3, tabac = 1, nbv = 3\n",
       "\n",
       "   ht\n",
       "aap  0  1\n",
       "  0  0  0\n",
       "  1  0  0\n",
       "  2  0  0\n"
      ]
     },
     "metadata": {},
     "output_type": "display_data"
    }
   ],
   "source": [
    "# Pivot table of factors\n",
    "table(aap, ht, iu, race, tabac, nbv)  # not displayed on the PDF file (too long)"
   ]
  },
  {
   "cell_type": "markdown",
   "metadata": {},
   "source": [
    "Le plan d'expérience n'est pas complet. Cela signifie que le modèle d'analyse de variance expliquant le poids du bébé en fonction de ces 6 facteurs ne pourra contenir que les effets propres de chaque facteur (modèle additif). On ne pourra donc prendre en compte aucune interaction."
   ]
  },
  {
   "cell_type": "markdown",
   "metadata": {},
   "source": [
    "On s'intéressera d'abord séparément aux variables catégorielles et aux variables numériques : \n",
    "\n",
    "- Pour les variables catégorielles, on mettra en oeuvre une ANOVA par facteur puis un modèle additif (sans interaction) pour l'ANOVA (partie 2) ;\n",
    "\n",
    "- Pour les variables numériques, on observera d'abord les corrélations puis on réalisera une régression linéaire (partie 3).\n",
    "\n",
    "<br>\n",
    "Enfin, en partie 4, on mettra en oeuvre une ou plusieurs ANCOVA, ce qui nous permettra de prendre en compte à la fois une variable numérique et un facteur. Pour cette partie on utilisera les variables identifiées comme ayant un effet significatif sur `pdsb` dans les parties 2 et 3."
   ]
  },
  {
   "cell_type": "markdown",
   "metadata": {},
   "source": [
    "# Facteurs"
   ]
  },
  {
   "cell_type": "markdown",
   "metadata": {},
   "source": [
    "## Analyses descriptives et ANOVA à un facteur"
   ]
  },
  {
   "cell_type": "markdown",
   "metadata": {},
   "source": [
    "Etant donné le caractère non-complet du plan d'expérience, le modèle factoriel ne pourra contenir que les effets propres de chaque facteur.\n",
    "<br>\n",
    "Tout d'abord, on étudie l'effet de chaque facteur sur le poids du bébé, en mettant en oeuvre plusieurs ANOVA à un facteur et en observant la distribution de `pdsb` selon chaque facteur (boîte à moustache)."
   ]
  },
  {
   "cell_type": "code",
   "execution_count": 8,
   "metadata": {},
   "outputs": [],
   "source": [
    "# Colours\n",
    "bin_cmap <- c('#C4EFFC', '#FF7979')\n",
    "grad_cmap <- c('#B3D6FF', '#9BC9FF', '#73B3FF', '#4298FF', '#0F7CFF', '#0067E3', '#0E5EBD')\n",
    "div_cmap <- c('#B19FFF', '#A4FF76', '#9DF1FF', '#FFF36B', '#FF816B', '#FF6BD2')\n",
    "\n",
    "# Display boxplot & ANOVA\n",
    "one_factor_model <- function(var, cmap){\n",
    "        \n",
    "    cat(paste(var, '\\n\\n', 'Moyennes par niveau :', '\\n', sep=''))\n",
    "    \n",
    "    # Means per level\n",
    "    print(tapply(pdsb, get(var), mean))\n",
    "    cat(paste('\\n', 'ANOVA :'))\n",
    "    \n",
    "    # Boxplot\n",
    "    options(repr.plot.width=5, repr.plot.height=4)\n",
    "    boxplot(pdsb ~ get(var), ylab='pdsb', xlab=toString(var), col=cmap,\n",
    "            main=paste('Distribution de pdsb selon le facteur', var))\n",
    "    \n",
    "    # ANOVA\n",
    "    aov.var <- aov(pdsb ~ get(var))\n",
    "    print(summary(aov.var))\n",
    "    \n",
    "    # Bonferroni (if at least 3 levels & if p-value < 0.05)\n",
    "    if(length(unique(get(var))) > 2 & summary(aov.var)[[1]][['Pr(>F)']][1] <= 0.05){\n",
    "        cat(paste('\\n', 'Bonferroni :'))\n",
    "        print(pairwise.t.test(pdsb, get(var), p.adj='bonferroni'))\n",
    "    }\n",
    "    \n",
    "    cat('\\n\\n')\n",
    "    \n",
    "}"
   ]
  },
  {
   "cell_type": "code",
   "execution_count": 9,
   "metadata": {},
   "outputs": [
    {
     "name": "stdout",
     "output_type": "stream",
     "text": [
      "race\n",
      "\n",
      "Moyennes par niveau :\n",
      "       1        2        3 \n",
      "3103.740 2719.692 2804.015 \n",
      "\n",
      " ANOVA :             Df   Sum Sq Mean Sq F value  Pr(>F)   \n",
      "get(var)      1  3846362 3846362   7.487 0.00681 **\n",
      "Residuals   187 96070691  513747                   \n",
      "---\n",
      "Signif. codes:  0 '***' 0.001 '**' 0.01 '*' 0.05 '.' 0.1 ' ' 1\n",
      "\n",
      " Bonferroni :\n",
      "\tPairwise comparisons using t tests with pooled SD \n",
      "\n",
      "data:  pdsb and get(var) \n",
      "\n",
      "  1     2    \n",
      "2 0.048 -    \n",
      "3 0.027 1.000\n",
      "\n",
      "P value adjustment method: bonferroni \n",
      "\n",
      "\n"
     ]
    },
    {
     "data": {
      "image/png": "[encoded data removed]",
      "text/plain": [
       "Plot with title \"Distribution de pdsb selon le facteur race\""
      ]
     },
     "metadata": {},
     "output_type": "display_data"
    }
   ],
   "source": [
    "one_factor_model('race', cmap=div_cmap)"
   ]
  },
  {
   "cell_type": "markdown",
   "metadata": {},
   "source": [
    "Le poids du bébé est en moyenne plus haut pour le niveau 1 (blanc) que pour les deux autres niveaux de `race`.\n",
    "<br>Le modèle factoriel montre que les poids moyens sont significativement différents (p-value = 0.00681).\n",
    "<br>Comme l'effet du facteur `race` est significatif, on met en oeuvre la méthode de Bonferroni pour observer les différences entre les niveaux. On peut voir que le niveau 1 (blanc) est significativement différent des niveaux 2 (noir) et 3 (autre), et que les niveaux 2 et 3 ne sont pas significativement différents entre eux."
   ]
  },
  {
   "cell_type": "code",
   "execution_count": 10,
   "metadata": {},
   "outputs": [
    {
     "name": "stdout",
     "output_type": "stream",
     "text": [
      "tabac\n",
      "\n",
      "Moyennes par niveau :\n",
      "       0        1 \n",
      "3054.957 2773.243 \n",
      "\n",
      " ANOVA :             Df   Sum Sq Mean Sq F value  Pr(>F)   \n",
      "get(var)      1  3573406 3573406   6.936 0.00916 **\n",
      "Residuals   187 96343646  515207                   \n",
      "---\n",
      "Signif. codes:  0 '***' 0.001 '**' 0.01 '*' 0.05 '.' 0.1 ' ' 1\n",
      "\n",
      "\n"
     ]
    },
    {
     "data": {
      "image/png": "[encoded data removed]",
      "text/plain": [
       "Plot with title \"Distribution de pdsb selon le facteur tabac\""
      ]
     },
     "metadata": {},
     "output_type": "display_data"
    }
   ],
   "source": [
    "one_factor_model('tabac', cmap=bin_cmap)"
   ]
  },
  {
   "cell_type": "markdown",
   "metadata": {},
   "source": [
    "Le poids du bébé est en moyenne plus bas pour le niveau représentant les mères ayant fumé pendant la grossesse : 2773.243 pour le niveau 1, contre 3054.957 pour le niveau 0.\n",
    "<br>Le modèle factoriel montre que les poids moyens sont significativement différents (p-value = 0.00916)."
   ]
  },
  {
   "cell_type": "code",
   "execution_count": 11,
   "metadata": {},
   "outputs": [
    {
     "name": "stdout",
     "output_type": "stream",
     "text": [
      "aap\n",
      "\n",
      "Moyennes par niveau :\n",
      "       0        1        2 \n",
      "3013.572 2496.292 2911.833 \n",
      "\n",
      " ANOVA :             Df   Sum Sq Mean Sq F value Pr(>F)  \n",
      "get(var)      1  3024232 3024232   5.837 0.0167 *\n",
      "Residuals   187 96892821  518143                 \n",
      "---\n",
      "Signif. codes:  0 '***' 0.001 '**' 0.01 '*' 0.05 '.' 0.1 ' ' 1\n",
      "\n",
      " Bonferroni :\n",
      "\tPairwise comparisons using t tests with pooled SD \n",
      "\n",
      "data:  pdsb and get(var) \n",
      "\n",
      "  0      1     \n",
      "1 0.0033 -     \n",
      "2 1.0000 0.6081\n",
      "\n",
      "P value adjustment method: bonferroni \n",
      "\n",
      "\n"
     ]
    },
    {
     "data": {
      "image/png": "[encoded data removed]",
      "text/plain": [
       "Plot with title \"Distribution de pdsb selon le facteur aap\""
      ]
     },
     "metadata": {},
     "output_type": "display_data"
    }
   ],
   "source": [
    "one_factor_model('aap', cmap=grad_cmap)"
   ]
  },
  {
   "cell_type": "markdown",
   "metadata": {},
   "source": [
    "Le poids du bébé est en moyenne plus bas pour le niveau 1 de `aap` (1 antécédent d'accouchement prématuré).\n",
    "<br>Le modèle factoriel montre que les poids moyens sont significativement différents (p-value = 0.0167).\n",
    "<br><br>Comme l'effet du facteur `aap` est significatif, on met en oeuvre la méthode de Bonferroni pour observer les différences entre les niveaux. On peut voir que le niveau 0 est significativement différent du niveau 1, mais pas du niveau 2, et que les niveaux 1 et 2 ne sont pas significativement différents entre eux."
   ]
  },
  {
   "cell_type": "code",
   "execution_count": 12,
   "metadata": {},
   "outputs": [
    {
     "name": "stdout",
     "output_type": "stream",
     "text": [
      "ht\n",
      "\n",
      "Moyennes par niveau :\n",
      "       0        1 \n",
      "2972.311 2536.750 \n",
      "\n",
      " ANOVA :             Df   Sum Sq Mean Sq F value Pr(>F)  \n",
      "get(var)      1  2132014 2132014   4.077 0.0449 *\n",
      "Residuals   187 97785038  522915                 \n",
      "---\n",
      "Signif. codes:  0 '***' 0.001 '**' 0.01 '*' 0.05 '.' 0.1 ' ' 1\n",
      "\n",
      "\n"
     ]
    },
    {
     "data": {
      "image/png": "[encoded data removed]",
      "text/plain": [
       "Plot with title \"Distribution de pdsb selon le facteur ht\""
      ]
     },
     "metadata": {},
     "output_type": "display_data"
    }
   ],
   "source": [
    "one_factor_model('ht', cmap=bin_cmap)"
   ]
  },
  {
   "cell_type": "markdown",
   "metadata": {},
   "source": [
    "Le poids du bébé est en moyenne plus bas pour le niveau 1 de `ht` (présence d'hypertension chez la mère). Le modèle factoriel montre que les poids moyens sont significativement différents (p-value = 0.0449)."
   ]
  },
  {
   "cell_type": "code",
   "execution_count": 13,
   "metadata": {},
   "outputs": [
    {
     "name": "stdout",
     "output_type": "stream",
     "text": [
      "iu\n",
      "\n",
      "Moyennes par niveau :\n",
      "       0        1 \n",
      "3030.609 2450.429 \n",
      "\n",
      " ANOVA :             Df   Sum Sq Mean Sq F value   Pr(>F)    \n",
      "get(var)      1  8028747 8028747   16.34 7.73e-05 ***\n",
      "Residuals   187 91888305  491381                     \n",
      "---\n",
      "Signif. codes:  0 '***' 0.001 '**' 0.01 '*' 0.05 '.' 0.1 ' ' 1\n",
      "\n",
      "\n"
     ]
    },
    {
     "data": {
      "image/png": "[encoded data removed]",
      "text/plain": [
       "Plot with title \"Distribution de pdsb selon le facteur iu\""
      ]
     },
     "metadata": {},
     "output_type": "display_data"
    }
   ],
   "source": [
    "one_factor_model('iu', cmap=bin_cmap)"
   ]
  },
  {
   "cell_type": "markdown",
   "metadata": {},
   "source": [
    "Le poids du bébé est en moyenne plus bas pour le niveau 1 de `iu` (présence d'irritabilité utérine) : 2450.429, contre 3030.609 pour le niveau 0. Le modèle factoriel montre que les poids moyens sont significativement différents (p-value = 7.73e-05, la plus haute p-value observée dans cette partie)."
   ]
  },
  {
   "cell_type": "code",
   "execution_count": 14,
   "metadata": {},
   "outputs": [
    {
     "name": "stdout",
     "output_type": "stream",
     "text": [
      "nbv\n",
      "\n",
      "Moyennes par niveau :\n",
      "       0        1        2        3 \n",
      "2865.270 3108.000 3010.333 2802.250 \n",
      "\n",
      " ANOVA :             Df   Sum Sq Mean Sq F value Pr(>F)\n",
      "get(var)      1   252604  252604   0.474  0.492\n",
      "Residuals   187 99664449  532965               \n",
      "\n",
      "\n"
     ]
    },
    {
     "data": {
      "image/png": "[encoded data removed]",
      "text/plain": [
       "Plot with title \"Distribution de pdsb selon le facteur nbv\""
      ]
     },
     "metadata": {},
     "output_type": "display_data"
    }
   ],
   "source": [
    "one_factor_model('nbv', cmap=div_cmap)"
   ]
  },
  {
   "cell_type": "markdown",
   "metadata": {},
   "source": [
    "Pour le facteur `nbv`, les moyennes par niveau présentent des différences, mais le modèle factoriel montre qu'elles ne sont pas significatives."
   ]
  },
  {
   "cell_type": "markdown",
   "metadata": {},
   "source": [
    "Suite à cette analyse, on peut retenir 5 facteurs ayant un effet significatif sur `pdsb` : `iu`, `race`, `tabac`, `aap` et `ht` (du plus significatif au moins significatif)."
   ]
  },
  {
   "cell_type": "markdown",
   "metadata": {},
   "source": [
    "## Modèle additif et évaluation"
   ]
  },
  {
   "cell_type": "markdown",
   "metadata": {},
   "source": [
    "Nous allons mettre en oeuvre un modèle additif avec ces 5 facteurs.\n",
    "Comme vu en partie 1.3, le caractère non-complet du plan d'expérience justifie le choix d'un modèle additif, sans interaction."
   ]
  },
  {
   "cell_type": "code",
   "execution_count": 15,
   "metadata": {},
   "outputs": [
    {
     "data": {
      "text/plain": [
       "             Df   Sum Sq Mean Sq F value   Pr(>F)    \n",
       "race          1  3846362 3846362   8.889 0.003260 ** \n",
       "tabac         1  7377302 7377302  17.048 5.53e-05 ***\n",
       "aap           1  1387268 1387268   3.206 0.075029 .  \n",
       "ht            1  1919085 1919085   4.435 0.036577 *  \n",
       "iu            1  6197067 6197067  14.321 0.000209 ***\n",
       "Residuals   183 79189969  432732                     \n",
       "---\n",
       "Signif. codes:  0 '***' 0.001 '**' 0.01 '*' 0.05 '.' 0.1 ' ' 1"
      ]
     },
     "metadata": {},
     "output_type": "display_data"
    }
   ],
   "source": [
    "aov.add <- aov(pdsb ~ race + tabac + aap + ht + iu)\n",
    "summary(aov.add)"
   ]
  },
  {
   "cell_type": "markdown",
   "metadata": {},
   "source": [
    "On remarque que dans ce modèle additif, les variables qui ressortent comme ayant l'effet le plus significatif sont `tabac` et `iu`. Dans ce modèle, `aap` (et même `ht`) ont un effet moins significatif que dans les modèles à un facteur."
   ]
  },
  {
   "cell_type": "code",
   "execution_count": 16,
   "metadata": {},
   "outputs": [
    {
     "data": {
      "text/plain": [
       "\n",
       "\tShapiro-Wilk normality test\n",
       "\n",
       "data:  aov.add$residuals\n",
       "W = 0.99377, p-value = 0.6108\n"
      ]
     },
     "metadata": {},
     "output_type": "display_data"
    },
    {
     "data": {
      "image/png": "[encoded data removed]",
      "text/plain": [
       "Plot with title \"\""
      ]
     },
     "metadata": {},
     "output_type": "display_data"
    }
   ],
   "source": [
    "# Model evaluation\n",
    "options(repr.plot.width=8, repr.plot.height=7)\n",
    "shapiro.test(aov.add$residuals)\n",
    "par(mfrow=c(2, 2))\n",
    "plot(aov.add)"
   ]
  },
  {
   "cell_type": "markdown",
   "metadata": {},
   "source": [
    "Le test de Shapiro-Wilk renvoie une p-value non significative (supérieure à 0,05). Le modèle satisfait donc l'hypothèse de gaussianité des résidus, ce qui constitue une condition de validation du modèle. Les nuages de points des résidus sont globalement dispersés mais on observe tout de même des concentrations verticales."
   ]
  },
  {
   "cell_type": "markdown",
   "metadata": {},
   "source": [
    "# Variables numériques"
   ]
  },
  {
   "cell_type": "markdown",
   "metadata": {},
   "source": [
    "Dans cette partie nous allons nous intéresser aux variables numériques : `age` et `pdsm`. L'objectif est d'identifier celles que nous pourrons prendre en compte dans l'ANCOVA."
   ]
  },
  {
   "cell_type": "markdown",
   "metadata": {},
   "source": [
    "## Analyse des corrélations"
   ]
  },
  {
   "cell_type": "code",
   "execution_count": 17,
   "metadata": {},
   "outputs": [
    {
     "data": {
      "text/plain": [
       "     pdsb  age pdsm\n",
       "pdsb 1.00 0.09 0.19\n",
       "age  0.09 1.00 0.18\n",
       "pdsm 0.19 0.18 1.00\n",
       "\n",
       "n= 189 \n",
       "\n",
       "\n",
       "P\n",
       "     pdsb   age    pdsm  \n",
       "pdsb        0.2188 0.0105\n",
       "age  0.2188        0.0132\n",
       "pdsm 0.0105 0.0132       "
      ]
     },
     "metadata": {},
     "output_type": "display_data"
    }
   ],
   "source": [
    "rcorr(as.matrix(babyweight[, c('pdsb', num_vars)]))  # 'Hmisc' library"
   ]
  },
  {
   "cell_type": "markdown",
   "metadata": {},
   "source": [
    "L'étude des corrélations deux-à-deux montre que les coefficients de corrélation sont tous positifs et certains significatifs : `pdsb`/`pdsm`, `pdsm`/`age` ont des p-values inférieures à 0.05. Toutefois, ces coefficients ne sont pas très élevés : le plus élevé est 0.19 entre `pdsb` et `pdsm`."
   ]
  },
  {
   "cell_type": "markdown",
   "metadata": {},
   "source": [
    "## Régression linéaire"
   ]
  },
  {
   "cell_type": "markdown",
   "metadata": {},
   "source": [
    "On met tout de même en oeuvre un modèle de régression linéaire multiple pour voir s'il est possible d'expliquer la variable `pdsb` en fonction des autres variables numériques.\n",
    "<br>\n",
    "Comme nous n'avons que deux variables explicatives numériques, il n'est pas nécessaire de mettre en place une démarche de sélection de variables : on peut simplement réaliser une régression linéaire sur les deux variables."
   ]
  },
  {
   "cell_type": "code",
   "execution_count": 18,
   "metadata": {},
   "outputs": [
    {
     "data": {
      "text/plain": [
       "\n",
       "Call:\n",
       "lm(formula = pdsb ~ age + pdsm)\n",
       "\n",
       "Residuals:\n",
       "     Min       1Q   Median       3Q      Max \n",
       "-2232.84  -500.50    32.13   520.32  1899.26 \n",
       "\n",
       "Coefficients:\n",
       "            Estimate Std. Error t value Pr(>|t|)    \n",
       "(Intercept) 2215.760    299.238   7.405 4.43e-12 ***\n",
       "age            8.021     10.060   0.797   0.4263    \n",
       "pdsm           8.358      3.486   2.397   0.0175 *  \n",
       "---\n",
       "Signif. codes:  0 '***' 0.001 '**' 0.01 '*' 0.05 '.' 0.1 ' ' 1\n",
       "\n",
       "Residual standard error: 718.9 on 186 degrees of freedom\n",
       "Multiple R-squared:  0.03781,\tAdjusted R-squared:  0.02746 \n",
       "F-statistic: 3.654 on 2 and 186 DF,  p-value: 0.02776\n"
      ]
     },
     "metadata": {},
     "output_type": "display_data"
    }
   ],
   "source": [
    "reg <- lm(pdsb ~ age + pdsm)\n",
    "summary(reg)"
   ]
  },
  {
   "cell_type": "markdown",
   "metadata": {},
   "source": [
    "L'estimation du modèle complet montre que seule la variable `pdsm` est significative quand on prend également en compte `age`. Toutefois, le R² très faible (0.03781) ne nous permet pas de considérer le modèle comme satisfaisant pour expliquer la variable réponse. Ce résultat n'est pas étonnant, étant données les faibles corrélations observées en partie 3.1."
   ]
  },
  {
   "cell_type": "markdown",
   "metadata": {},
   "source": [
    "# ANCOVA"
   ]
  },
  {
   "cell_type": "markdown",
   "metadata": {},
   "source": [
    "Les conclusions tirées de la partie 3 ne nous permettent pas de prouver la pertinence d'un modèle de régression linéaire sur `pdsm` (et encore moins sur `age`). On peut néanmoins mettre en oeuvre une ANCOVA afin de voir si la prise en compte simultanée d'un facteur et d'une variable numérique nous permet d'obtenir un modèle satisfaisant.\n",
    "<br>On avait identifié `iu`, `race` et `tabac` comme variables ayant les effets les plus significatifs sur `pdsb`. On réalisera donc 3 ANCOVA associant chacune de ces variables à `pdsm`. "
   ]
  },
  {
   "cell_type": "code",
   "execution_count": 19,
   "metadata": {},
   "outputs": [
    {
     "data": {
      "text/plain": [
       "Analysis of Variance Table\n",
       "\n",
       "Response: pdsb\n",
       "           Df   Sum Sq Mean Sq F value    Pr(>F)    \n",
       "iu          1  8028747 8028747 16.6161 6.788e-05 ***\n",
       "pdsm        1  2076990 2076990  4.2985   0.03953 *  \n",
       "iu:pdsm     1   421079  421079  0.8715   0.35177    \n",
       "Residuals 185 89390237  483190                      \n",
       "---\n",
       "Signif. codes:  0 '***' 0.001 '**' 0.01 '*' 0.05 '.' 0.1 ' ' 1"
      ]
     },
     "metadata": {},
     "output_type": "display_data"
    },
    {
     "data": {
      "image/png": "[encoded data removed]",
      "text/plain": [
       "plot without title"
      ]
     },
     "metadata": {},
     "output_type": "display_data"
    }
   ],
   "source": [
    "options(repr.plot.width=7, repr.plot.height=4)\n",
    "ancova(pdsb ~ iu * pdsm, data=babyweight)  # 'HH' library"
   ]
  },
  {
   "cell_type": "code",
   "execution_count": 20,
   "metadata": {},
   "outputs": [
    {
     "data": {
      "text/plain": [
       "Analysis of Variance Table\n",
       "\n",
       "Response: pdsb\n",
       "           Df   Sum Sq Mean Sq F value   Pr(>F)   \n",
       "race        2  5070608 2535304  5.0956 0.007022 **\n",
       "pdsm        1  3499971 3499971  7.0344 0.008698 **\n",
       "race:pdsm   2   294801  147400  0.2963 0.743956   \n",
       "Residuals 183 91051673  497550                    \n",
       "---\n",
       "Signif. codes:  0 '***' 0.001 '**' 0.01 '*' 0.05 '.' 0.1 ' ' 1"
      ]
     },
     "metadata": {},
     "output_type": "display_data"
    },
    {
     "data": {
      "image/png": "[encoded data removed]",
      "text/plain": [
       "plot without title"
      ]
     },
     "metadata": {},
     "output_type": "display_data"
    }
   ],
   "source": [
    "ancova(pdsb ~ race * pdsm, data=babyweight)"
   ]
  },
  {
   "cell_type": "code",
   "execution_count": 21,
   "metadata": {},
   "outputs": [
    {
     "data": {
      "text/plain": [
       "Analysis of Variance Table\n",
       "\n",
       "Response: pdsb\n",
       "            Df   Sum Sq Mean Sq F value   Pr(>F)   \n",
       "tabac        1  3573406 3573406  7.1139 0.008327 **\n",
       "pdsm         1  3151818 3151818  6.2746 0.013112 * \n",
       "tabac:pdsm   1   263853  263853  0.5253 0.469515   \n",
       "Residuals  185 92927975  502313                    \n",
       "---\n",
       "Signif. codes:  0 '***' 0.001 '**' 0.01 '*' 0.05 '.' 0.1 ' ' 1"
      ]
     },
     "metadata": {},
     "output_type": "display_data"
    },
    {
     "data": {
      "image/png": "[encoded data removed]",
      "text/plain": [
       "plot without title"
      ]
     },
     "metadata": {},
     "output_type": "display_data"
    }
   ],
   "source": [
    "ancova(pdsb ~ tabac * pdsm, data=babyweight)"
   ]
  },
  {
   "cell_type": "markdown",
   "metadata": {},
   "source": [
    "Dans les 3 cas, même si les p-values semblent significatives, les graphiques ne nous permettent pas de voir des différences nettes entre les différents niveaux des facteurs. On ne peut donc pas affirmer que l'effet de `pdsm` sur `pdsb` est plus ou moins fort selon `iu`, `tabac` ou `race`."
   ]
  },
  {
   "cell_type": "markdown",
   "metadata": {},
   "source": [
    "# Conclusion"
   ]
  },
  {
   "cell_type": "markdown",
   "metadata": {},
   "source": [
    "C'est l'ANOVA qui nous a donné le modèle le plus pertinent pour expliquer le poids du bébé à la naissance. Les facteurs ayant un effet significatif sur `pdsb` sont : `tabac`, `iu`, `race`, `ht` et `aap` (du plus significatif au moins significatif dans le modèle additif).\n",
    "<br>\n",
    "On remarque notamment que les niveaux 1 de `tabac`, `iu`, `ht` et `aap`, et les niveaux 2 et 3 de `race`, sont associés à un faible poids du bébé.\n",
    "<br>\n",
    "`nbv` n'a pas un effet significatif, tout comme les variables numériques `pdsm` et `age`."
   ]
  }
 ],
 "metadata": {
  "kernelspec": {
   "display_name": "R",
   "language": "R",
   "name": "ir"
  },
  "language_info": {
   "codemirror_mode": "r",
   "file_extension": ".r",
   "mimetype": "text/x-r-source",
   "name": "R",
   "pygments_lexer": "r",
   "version": "3.6.1"
  },
  "toc": {
   "base_numbering": 1,
   "nav_menu": {},
   "number_sections": true,
   "sideBar": true,
   "skip_h1_title": false,
   "title_cell": "Table of Contents",
   "title_sidebar": "Contents",
   "toc_cell": false,
   "toc_position": {},
   "toc_section_display": true,
   "toc_window_display": false
  }
 },
 "nbformat": 4,
 "nbformat_minor": 2
}
